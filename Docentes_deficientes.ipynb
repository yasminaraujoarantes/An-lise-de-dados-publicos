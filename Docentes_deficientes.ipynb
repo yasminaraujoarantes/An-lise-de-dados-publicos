{
 "cells": [
  {
   "cell_type": "markdown",
   "metadata": {
    "_cell_guid": "d0478e4a-9dae-44dd-88be-bee227cf8bb5",
    "_uuid": "3cbc8c78487e5668e74ff7e65e00302c1ab7200e"
   },
   "source": [
    "# Análise de Dados Públicos - Docentes portadores de deficiência - Educação Superior de 2017\n",
    "\n"
   ]
  },
  {
   "cell_type": "code",
   "execution_count": 12,
   "metadata": {},
   "outputs": [],
   "source": [
    "import pandas as pd\n",
    "low_memory=False\n",
    "pd.options.display.max_columns = 80\n",
    "pd.options.display.max_rows = 90\n",
    "import numpy as np\n",
    "\n",
    "import matplotlib.pyplot as plt"
   ]
  },
  {
   "cell_type": "code",
   "execution_count": 36,
   "metadata": {},
   "outputs": [],
   "source": [
    "df = pd.read_csv('microdados_educacao_superior_2017/Microdados_Educacao_Superior_2017/DADOS/DM_DOCENTE/DM_DOCENTE.CSV', delimiter = '|', encoding='iso-8859-1', \n",
    "                 usecols=['CO_DOCENTE', \n",
    "                          'TP_ESCOLARIDADE',\n",
    "                          'TP_SEXO',\n",
    "                          'NU_IDADE',\n",
    "                          'TP_DEFICIENCIA',\n",
    "                          'IN_DEFICIENCIA_CEGUEIRA',\n",
    "                          'IN_DEFICIENCIA_BAIXA_VISAO','IN_DEFICIENCIA_SURDEZ',\n",
    "                          'IN_DEFICIENCIA_FISICA', 'IN_DEFICIENCIA_MULTIPLA',\n",
    "                          'IN_DEFICIENCIA_SURDOCEGUEIRA', 'IN_DEFICIENCIA_INTELECTUAL'\n",
    "])"
   ]
  },
  {
   "cell_type": "code",
   "execution_count": 37,
   "metadata": {},
   "outputs": [
    {
     "data": {
      "text/html": [
       "<div>\n",
       "<style scoped>\n",
       "    .dataframe tbody tr th:only-of-type {\n",
       "        vertical-align: middle;\n",
       "    }\n",
       "\n",
       "    .dataframe tbody tr th {\n",
       "        vertical-align: top;\n",
       "    }\n",
       "\n",
       "    .dataframe thead th {\n",
       "        text-align: right;\n",
       "    }\n",
       "</style>\n",
       "<table border=\"1\" class=\"dataframe\">\n",
       "  <thead>\n",
       "    <tr style=\"text-align: right;\">\n",
       "      <th></th>\n",
       "      <th>CO_DOCENTE</th>\n",
       "      <th>TP_ESCOLARIDADE</th>\n",
       "      <th>TP_SEXO</th>\n",
       "      <th>NU_IDADE</th>\n",
       "      <th>TP_DEFICIENCIA</th>\n",
       "      <th>IN_DEFICIENCIA_CEGUEIRA</th>\n",
       "      <th>IN_DEFICIENCIA_BAIXA_VISAO</th>\n",
       "      <th>IN_DEFICIENCIA_SURDEZ</th>\n",
       "      <th>IN_DEFICIENCIA_FISICA</th>\n",
       "      <th>IN_DEFICIENCIA_SURDOCEGUEIRA</th>\n",
       "      <th>IN_DEFICIENCIA_MULTIPLA</th>\n",
       "      <th>IN_DEFICIENCIA_INTELECTUAL</th>\n",
       "    </tr>\n",
       "  </thead>\n",
       "  <tbody>\n",
       "    <tr>\n",
       "      <th>0</th>\n",
       "      <td>118988178830</td>\n",
       "      <td>4</td>\n",
       "      <td>1</td>\n",
       "      <td>30</td>\n",
       "      <td>0</td>\n",
       "      <td>NaN</td>\n",
       "      <td>NaN</td>\n",
       "      <td>NaN</td>\n",
       "      <td>NaN</td>\n",
       "      <td>NaN</td>\n",
       "      <td>NaN</td>\n",
       "      <td>NaN</td>\n",
       "    </tr>\n",
       "    <tr>\n",
       "      <th>1</th>\n",
       "      <td>118988178831</td>\n",
       "      <td>4</td>\n",
       "      <td>2</td>\n",
       "      <td>26</td>\n",
       "      <td>0</td>\n",
       "      <td>NaN</td>\n",
       "      <td>NaN</td>\n",
       "      <td>NaN</td>\n",
       "      <td>NaN</td>\n",
       "      <td>NaN</td>\n",
       "      <td>NaN</td>\n",
       "      <td>NaN</td>\n",
       "    </tr>\n",
       "    <tr>\n",
       "      <th>2</th>\n",
       "      <td>118988178841</td>\n",
       "      <td>5</td>\n",
       "      <td>2</td>\n",
       "      <td>31</td>\n",
       "      <td>0</td>\n",
       "      <td>NaN</td>\n",
       "      <td>NaN</td>\n",
       "      <td>NaN</td>\n",
       "      <td>NaN</td>\n",
       "      <td>NaN</td>\n",
       "      <td>NaN</td>\n",
       "      <td>NaN</td>\n",
       "    </tr>\n",
       "    <tr>\n",
       "      <th>3</th>\n",
       "      <td>118988178842</td>\n",
       "      <td>3</td>\n",
       "      <td>2</td>\n",
       "      <td>29</td>\n",
       "      <td>0</td>\n",
       "      <td>NaN</td>\n",
       "      <td>NaN</td>\n",
       "      <td>NaN</td>\n",
       "      <td>NaN</td>\n",
       "      <td>NaN</td>\n",
       "      <td>NaN</td>\n",
       "      <td>NaN</td>\n",
       "    </tr>\n",
       "    <tr>\n",
       "      <th>4</th>\n",
       "      <td>118988178843</td>\n",
       "      <td>3</td>\n",
       "      <td>1</td>\n",
       "      <td>45</td>\n",
       "      <td>0</td>\n",
       "      <td>NaN</td>\n",
       "      <td>NaN</td>\n",
       "      <td>NaN</td>\n",
       "      <td>NaN</td>\n",
       "      <td>NaN</td>\n",
       "      <td>NaN</td>\n",
       "      <td>NaN</td>\n",
       "    </tr>\n",
       "    <tr>\n",
       "      <th>...</th>\n",
       "      <td>...</td>\n",
       "      <td>...</td>\n",
       "      <td>...</td>\n",
       "      <td>...</td>\n",
       "      <td>...</td>\n",
       "      <td>...</td>\n",
       "      <td>...</td>\n",
       "      <td>...</td>\n",
       "      <td>...</td>\n",
       "      <td>...</td>\n",
       "      <td>...</td>\n",
       "      <td>...</td>\n",
       "    </tr>\n",
       "    <tr>\n",
       "      <th>392031</th>\n",
       "      <td>118988066394</td>\n",
       "      <td>4</td>\n",
       "      <td>2</td>\n",
       "      <td>27</td>\n",
       "      <td>0</td>\n",
       "      <td>NaN</td>\n",
       "      <td>NaN</td>\n",
       "      <td>NaN</td>\n",
       "      <td>NaN</td>\n",
       "      <td>NaN</td>\n",
       "      <td>NaN</td>\n",
       "      <td>NaN</td>\n",
       "    </tr>\n",
       "    <tr>\n",
       "      <th>392032</th>\n",
       "      <td>45169</td>\n",
       "      <td>5</td>\n",
       "      <td>1</td>\n",
       "      <td>65</td>\n",
       "      <td>0</td>\n",
       "      <td>NaN</td>\n",
       "      <td>NaN</td>\n",
       "      <td>NaN</td>\n",
       "      <td>NaN</td>\n",
       "      <td>NaN</td>\n",
       "      <td>NaN</td>\n",
       "      <td>NaN</td>\n",
       "    </tr>\n",
       "    <tr>\n",
       "      <th>392033</th>\n",
       "      <td>118988066395</td>\n",
       "      <td>3</td>\n",
       "      <td>2</td>\n",
       "      <td>28</td>\n",
       "      <td>0</td>\n",
       "      <td>NaN</td>\n",
       "      <td>NaN</td>\n",
       "      <td>NaN</td>\n",
       "      <td>NaN</td>\n",
       "      <td>NaN</td>\n",
       "      <td>NaN</td>\n",
       "      <td>NaN</td>\n",
       "    </tr>\n",
       "    <tr>\n",
       "      <th>392034</th>\n",
       "      <td>118988066395</td>\n",
       "      <td>2</td>\n",
       "      <td>2</td>\n",
       "      <td>28</td>\n",
       "      <td>0</td>\n",
       "      <td>NaN</td>\n",
       "      <td>NaN</td>\n",
       "      <td>NaN</td>\n",
       "      <td>NaN</td>\n",
       "      <td>NaN</td>\n",
       "      <td>NaN</td>\n",
       "      <td>NaN</td>\n",
       "    </tr>\n",
       "    <tr>\n",
       "      <th>392035</th>\n",
       "      <td>118988064192</td>\n",
       "      <td>4</td>\n",
       "      <td>2</td>\n",
       "      <td>47</td>\n",
       "      <td>0</td>\n",
       "      <td>NaN</td>\n",
       "      <td>NaN</td>\n",
       "      <td>NaN</td>\n",
       "      <td>NaN</td>\n",
       "      <td>NaN</td>\n",
       "      <td>NaN</td>\n",
       "      <td>NaN</td>\n",
       "    </tr>\n",
       "  </tbody>\n",
       "</table>\n",
       "<p>392036 rows × 12 columns</p>\n",
       "</div>"
      ],
      "text/plain": [
       "          CO_DOCENTE  TP_ESCOLARIDADE  TP_SEXO  NU_IDADE  TP_DEFICIENCIA  \\\n",
       "0       118988178830                4        1        30               0   \n",
       "1       118988178831                4        2        26               0   \n",
       "2       118988178841                5        2        31               0   \n",
       "3       118988178842                3        2        29               0   \n",
       "4       118988178843                3        1        45               0   \n",
       "...              ...              ...      ...       ...             ...   \n",
       "392031  118988066394                4        2        27               0   \n",
       "392032         45169                5        1        65               0   \n",
       "392033  118988066395                3        2        28               0   \n",
       "392034  118988066395                2        2        28               0   \n",
       "392035  118988064192                4        2        47               0   \n",
       "\n",
       "        IN_DEFICIENCIA_CEGUEIRA  IN_DEFICIENCIA_BAIXA_VISAO  \\\n",
       "0                           NaN                         NaN   \n",
       "1                           NaN                         NaN   \n",
       "2                           NaN                         NaN   \n",
       "3                           NaN                         NaN   \n",
       "4                           NaN                         NaN   \n",
       "...                         ...                         ...   \n",
       "392031                      NaN                         NaN   \n",
       "392032                      NaN                         NaN   \n",
       "392033                      NaN                         NaN   \n",
       "392034                      NaN                         NaN   \n",
       "392035                      NaN                         NaN   \n",
       "\n",
       "        IN_DEFICIENCIA_SURDEZ  IN_DEFICIENCIA_FISICA  \\\n",
       "0                         NaN                    NaN   \n",
       "1                         NaN                    NaN   \n",
       "2                         NaN                    NaN   \n",
       "3                         NaN                    NaN   \n",
       "4                         NaN                    NaN   \n",
       "...                       ...                    ...   \n",
       "392031                    NaN                    NaN   \n",
       "392032                    NaN                    NaN   \n",
       "392033                    NaN                    NaN   \n",
       "392034                    NaN                    NaN   \n",
       "392035                    NaN                    NaN   \n",
       "\n",
       "        IN_DEFICIENCIA_SURDOCEGUEIRA  IN_DEFICIENCIA_MULTIPLA  \\\n",
       "0                                NaN                      NaN   \n",
       "1                                NaN                      NaN   \n",
       "2                                NaN                      NaN   \n",
       "3                                NaN                      NaN   \n",
       "4                                NaN                      NaN   \n",
       "...                              ...                      ...   \n",
       "392031                           NaN                      NaN   \n",
       "392032                           NaN                      NaN   \n",
       "392033                           NaN                      NaN   \n",
       "392034                           NaN                      NaN   \n",
       "392035                           NaN                      NaN   \n",
       "\n",
       "        IN_DEFICIENCIA_INTELECTUAL  \n",
       "0                              NaN  \n",
       "1                              NaN  \n",
       "2                              NaN  \n",
       "3                              NaN  \n",
       "4                              NaN  \n",
       "...                            ...  \n",
       "392031                         NaN  \n",
       "392032                         NaN  \n",
       "392033                         NaN  \n",
       "392034                         NaN  \n",
       "392035                         NaN  \n",
       "\n",
       "[392036 rows x 12 columns]"
      ]
     },
     "execution_count": 37,
     "metadata": {},
     "output_type": "execute_result"
    }
   ],
   "source": [
    "df "
   ]
  },
  {
   "cell_type": "code",
   "execution_count": 38,
   "metadata": {},
   "outputs": [
    {
     "data": {
      "text/plain": [
       "CO_DOCENTE                      392036\n",
       "TP_ESCOLARIDADE                 392036\n",
       "TP_SEXO                         392036\n",
       "NU_IDADE                        392036\n",
       "TP_DEFICIENCIA                  392036\n",
       "IN_DEFICIENCIA_CEGUEIRA           1973\n",
       "IN_DEFICIENCIA_BAIXA_VISAO        1973\n",
       "IN_DEFICIENCIA_SURDEZ             1973\n",
       "IN_DEFICIENCIA_FISICA             1973\n",
       "IN_DEFICIENCIA_SURDOCEGUEIRA      1973\n",
       "IN_DEFICIENCIA_MULTIPLA           1973\n",
       "IN_DEFICIENCIA_INTELECTUAL        1973\n",
       "dtype: int64"
      ]
     },
     "execution_count": 38,
     "metadata": {},
     "output_type": "execute_result"
    }
   ],
   "source": [
    "df.count() "
   ]
  },
  {
   "cell_type": "code",
   "execution_count": 39,
   "metadata": {},
   "outputs": [
    {
     "data": {
      "text/plain": [
       "CO_DOCENTE                      141\n",
       "TP_ESCOLARIDADE                 141\n",
       "TP_SEXO                         141\n",
       "NU_IDADE                        141\n",
       "TP_DEFICIENCIA                  141\n",
       "IN_DEFICIENCIA_CEGUEIRA         141\n",
       "IN_DEFICIENCIA_BAIXA_VISAO      141\n",
       "IN_DEFICIENCIA_SURDEZ           141\n",
       "IN_DEFICIENCIA_FISICA           141\n",
       "IN_DEFICIENCIA_SURDOCEGUEIRA    141\n",
       "IN_DEFICIENCIA_MULTIPLA         141\n",
       "IN_DEFICIENCIA_INTELECTUAL      141\n",
       "dtype: int64"
      ]
     },
     "execution_count": 39,
     "metadata": {},
     "output_type": "execute_result"
    }
   ],
   "source": [
    "df.query('IN_DEFICIENCIA_SURDEZ == 1').count() #docentes com surdez"
   ]
  },
  {
   "cell_type": "code",
   "execution_count": 40,
   "metadata": {},
   "outputs": [
    {
     "data": {
      "text/plain": [
       "CO_DOCENTE                      918\n",
       "TP_ESCOLARIDADE                 918\n",
       "TP_SEXO                         918\n",
       "NU_IDADE                        918\n",
       "TP_DEFICIENCIA                  918\n",
       "IN_DEFICIENCIA_CEGUEIRA         918\n",
       "IN_DEFICIENCIA_BAIXA_VISAO      918\n",
       "IN_DEFICIENCIA_SURDEZ           918\n",
       "IN_DEFICIENCIA_FISICA           918\n",
       "IN_DEFICIENCIA_SURDOCEGUEIRA    918\n",
       "IN_DEFICIENCIA_MULTIPLA         918\n",
       "IN_DEFICIENCIA_INTELECTUAL      918\n",
       "dtype: int64"
      ]
     },
     "execution_count": 40,
     "metadata": {},
     "output_type": "execute_result"
    }
   ],
   "source": [
    "df.query('IN_DEFICIENCIA_FISICA == 1').count() #docentes com deficiência física"
   ]
  },
  {
   "cell_type": "code",
   "execution_count": 41,
   "metadata": {},
   "outputs": [
    {
     "data": {
      "text/plain": [
       "CO_DOCENTE                      502\n",
       "TP_ESCOLARIDADE                 502\n",
       "TP_SEXO                         502\n",
       "NU_IDADE                        502\n",
       "TP_DEFICIENCIA                  502\n",
       "IN_DEFICIENCIA_CEGUEIRA         502\n",
       "IN_DEFICIENCIA_BAIXA_VISAO      502\n",
       "IN_DEFICIENCIA_SURDEZ           502\n",
       "IN_DEFICIENCIA_FISICA           502\n",
       "IN_DEFICIENCIA_SURDOCEGUEIRA    502\n",
       "IN_DEFICIENCIA_MULTIPLA         502\n",
       "IN_DEFICIENCIA_INTELECTUAL      502\n",
       "dtype: int64"
      ]
     },
     "execution_count": 41,
     "metadata": {},
     "output_type": "execute_result"
    }
   ],
   "source": [
    "df.query('IN_DEFICIENCIA_BAIXA_VISAO == 1').count() #docentes com baixa visão"
   ]
  },
  {
   "cell_type": "code",
   "execution_count": 43,
   "metadata": {},
   "outputs": [
    {
     "data": {
      "text/plain": [
       "<matplotlib.axes._subplots.AxesSubplot at 0xc3cb310>"
      ]
     },
     "execution_count": 43,
     "metadata": {},
     "output_type": "execute_result"
    },
    {
     "data": {
      "image/png": "[encoded data removed]",
      "text/plain": [
       "<Figure size 720x720 with 1 Axes>"
      ]
     },
     "metadata": {
      "needs_background": "light"
     },
     "output_type": "display_data"
    }
   ],
   "source": [
    "df.groupby('TP_DEFICIENCIA').size().sort_values().tail(20).plot(kind='barh', figsize=(10,10))\n",
    "# (0) - Não (9)- Não dispõe de informação (1)- Sim"
   ]
  },
  {
   "cell_type": "code",
   "execution_count": 45,
   "metadata": {},
   "outputs": [
    {
     "data": {
      "text/plain": [
       "<matplotlib.axes._subplots.AxesSubplot at 0xc19fd90>"
      ]
     },
     "execution_count": 45,
     "metadata": {},
     "output_type": "execute_result"
    },
    {
     "data": {
      "image/png": "[encoded data removed]",
      "text/plain": [
       "<Figure size 720x720 with 1 Axes>"
      ]
     },
     "metadata": {
      "needs_background": "light"
     },
     "output_type": "display_data"
    }
   ],
   "source": [
    "df.groupby('IN_DEFICIENCIA_BAIXA_VISAO').size().sort_values().tail(10).plot(kind='barh', figsize=(10,10))\n",
    "# (0)- Não (1)- Sim "
   ]
  },
  {
   "cell_type": "code",
   "execution_count": 52,
   "metadata": {},
   "outputs": [
    {
     "data": {
      "image/png": "[encoded data removed]",
      "text/plain": [
       "<Figure size 432x288 with 1 Axes>"
      ]
     },
     "metadata": {
      "needs_background": "light"
     },
     "output_type": "display_data"
    }
   ],
   "source": [
    "plt.suptitle(\"Tipos de Deficiências\")\n",
    "names = ['Cegueira','Multipla', 'Intelectual']\n",
    "values = [\n",
    "    df.query('IN_DEFICIENCIA_CEGUEIRA == 1').count()[0],\n",
    "    df.query('IN_DEFICIENCIA_MULTIPLA == 1').count()[0],\n",
    "    df.query('IN_DEFICIENCIA_INTELECTUAL == 1').count()[0]\n",
    "]\n",
    "plt.bar(names, values)\n",
    "plt.show()"
   ]
  }
 ],
 "metadata": {
  "kernelspec": {
   "display_name": "Python 3",
   "language": "python",
   "name": "python3"
  },
  "language_info": {
   "codemirror_mode": {
    "name": "ipython",
    "version": 3
   },
   "file_extension": ".py",
   "mimetype": "text/x-python",
   "name": "python",
   "nbconvert_exporter": "python",
   "pygments_lexer": "ipython3",
   "version": "3.7.0"
  }
 },
 "nbformat": 4,
 "nbformat_minor": 1
}
