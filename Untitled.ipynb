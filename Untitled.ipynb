{
 "cells": [
  {
   "cell_type": "markdown",
   "metadata": {},
   "source": [
    "# Relação de Cursos Superiores quanto ao período, modalidade, grau acadêmico e concluintes no ano de 2017\n"
   ]
  },
  {
   "cell_type": "code",
   "execution_count": 10,
   "metadata": {},
   "outputs": [],
   "source": [
    "import pandas as pd\n",
    "low_memory=False\n",
    "pd.options.display.max_columns = 80\n",
    "pd.options.display.max_rows = 90\n",
    "import numpy as np\n",
    "\n",
    "import matplotlib.pyplot as plt"
   ]
  },
  {
   "cell_type": "code",
   "execution_count": 40,
   "metadata": {},
   "outputs": [],
   "source": [
    "df = pd.read_csv('microdados_educacao_superior_2017/Microdados_Educacao_Superior_2017/DADOS/DM_CURSO/DM_CURSO.CSV', delimiter = '|', encoding='iso-8859-1', usecols=['CO_UF',\n",
    "'NU_ANO_CENSO',\n",
    "'CO_CURSO',\n",
    "'NO_CURSO',\n",
    "'TP_SITUACAO',\n",
    "'TP_MODALIDADE_ENSINO',\n",
    "'TP_GRAU_ACADEMICO',\n",
    "'IN_GRATUITO',\n",
    "'NU_CARGA_HORARIA',\n",
    "'IN_INTEGRAL',\n",
    "'IN_MATUTINO',\n",
    "'IN_VESPERTINO',\n",
    "'IN_NOTURNO',\n",
    "'QT_MATRICULA_TOTAL',\n",
    "'QT_VAGA_TOTAL',\n",
    "'QT_INGRESSO_TOTAL',\n",
    "'QT_CONCLUINTE_TOTAL'\n",
    "])"
   ]
  },
  {
   "cell_type": "code",
   "execution_count": 41,
   "metadata": {},
   "outputs": [
    {
     "data": {
      "text/html": [
       "<div>\n",
       "<style scoped>\n",
       "    .dataframe tbody tr th:only-of-type {\n",
       "        vertical-align: middle;\n",
       "    }\n",
       "\n",
       "    .dataframe tbody tr th {\n",
       "        vertical-align: top;\n",
       "    }\n",
       "\n",
       "    .dataframe thead th {\n",
       "        text-align: right;\n",
       "    }\n",
       "</style>\n",
       "<table border=\"1\" class=\"dataframe\">\n",
       "  <thead>\n",
       "    <tr style=\"text-align: right;\">\n",
       "      <th></th>\n",
       "      <th>NU_ANO_CENSO</th>\n",
       "      <th>CO_UF</th>\n",
       "      <th>CO_CURSO</th>\n",
       "      <th>NO_CURSO</th>\n",
       "      <th>TP_SITUACAO</th>\n",
       "      <th>TP_GRAU_ACADEMICO</th>\n",
       "      <th>TP_MODALIDADE_ENSINO</th>\n",
       "      <th>IN_GRATUITO</th>\n",
       "      <th>NU_CARGA_HORARIA</th>\n",
       "      <th>IN_INTEGRAL</th>\n",
       "      <th>IN_MATUTINO</th>\n",
       "      <th>IN_VESPERTINO</th>\n",
       "      <th>IN_NOTURNO</th>\n",
       "      <th>QT_MATRICULA_TOTAL</th>\n",
       "      <th>QT_CONCLUINTE_TOTAL</th>\n",
       "      <th>QT_INGRESSO_TOTAL</th>\n",
       "      <th>QT_VAGA_TOTAL</th>\n",
       "    </tr>\n",
       "  </thead>\n",
       "  <tbody>\n",
       "    <tr>\n",
       "      <th>0</th>\n",
       "      <td>2017</td>\n",
       "      <td>14.0</td>\n",
       "      <td>1259131</td>\n",
       "      <td>MÚSICA</td>\n",
       "      <td>1</td>\n",
       "      <td>2.0</td>\n",
       "      <td>1</td>\n",
       "      <td>1</td>\n",
       "      <td>3210</td>\n",
       "      <td>0.0</td>\n",
       "      <td>0.0</td>\n",
       "      <td>0.0</td>\n",
       "      <td>1.0</td>\n",
       "      <td>131</td>\n",
       "      <td>5</td>\n",
       "      <td>40</td>\n",
       "      <td>50</td>\n",
       "    </tr>\n",
       "    <tr>\n",
       "      <th>1</th>\n",
       "      <td>2017</td>\n",
       "      <td>51.0</td>\n",
       "      <td>1258115</td>\n",
       "      <td>GESTÃO DE RECURSOS HUMANOS</td>\n",
       "      <td>1</td>\n",
       "      <td>3.0</td>\n",
       "      <td>1</td>\n",
       "      <td>0</td>\n",
       "      <td>1720</td>\n",
       "      <td>0.0</td>\n",
       "      <td>0.0</td>\n",
       "      <td>0.0</td>\n",
       "      <td>1.0</td>\n",
       "      <td>12</td>\n",
       "      <td>0</td>\n",
       "      <td>4</td>\n",
       "      <td>95</td>\n",
       "    </tr>\n",
       "    <tr>\n",
       "      <th>2</th>\n",
       "      <td>2017</td>\n",
       "      <td>35.0</td>\n",
       "      <td>68433</td>\n",
       "      <td>DIREITO</td>\n",
       "      <td>1</td>\n",
       "      <td>1.0</td>\n",
       "      <td>1</td>\n",
       "      <td>0</td>\n",
       "      <td>4080</td>\n",
       "      <td>0.0</td>\n",
       "      <td>1.0</td>\n",
       "      <td>0.0</td>\n",
       "      <td>1.0</td>\n",
       "      <td>247</td>\n",
       "      <td>71</td>\n",
       "      <td>51</td>\n",
       "      <td>240</td>\n",
       "    </tr>\n",
       "    <tr>\n",
       "      <th>3</th>\n",
       "      <td>2017</td>\n",
       "      <td>35.0</td>\n",
       "      <td>52052</td>\n",
       "      <td>ENGENHARIA ELÉTRICA</td>\n",
       "      <td>1</td>\n",
       "      <td>1.0</td>\n",
       "      <td>1</td>\n",
       "      <td>0</td>\n",
       "      <td>3892</td>\n",
       "      <td>0.0</td>\n",
       "      <td>0.0</td>\n",
       "      <td>0.0</td>\n",
       "      <td>1.0</td>\n",
       "      <td>172</td>\n",
       "      <td>26</td>\n",
       "      <td>35</td>\n",
       "      <td>191</td>\n",
       "    </tr>\n",
       "    <tr>\n",
       "      <th>4</th>\n",
       "      <td>2017</td>\n",
       "      <td>53.0</td>\n",
       "      <td>18061</td>\n",
       "      <td>DIREITO</td>\n",
       "      <td>1</td>\n",
       "      <td>1.0</td>\n",
       "      <td>1</td>\n",
       "      <td>0</td>\n",
       "      <td>3790</td>\n",
       "      <td>0.0</td>\n",
       "      <td>1.0</td>\n",
       "      <td>0.0</td>\n",
       "      <td>1.0</td>\n",
       "      <td>1966</td>\n",
       "      <td>450</td>\n",
       "      <td>223</td>\n",
       "      <td>840</td>\n",
       "    </tr>\n",
       "    <tr>\n",
       "      <th>...</th>\n",
       "      <td>...</td>\n",
       "      <td>...</td>\n",
       "      <td>...</td>\n",
       "      <td>...</td>\n",
       "      <td>...</td>\n",
       "      <td>...</td>\n",
       "      <td>...</td>\n",
       "      <td>...</td>\n",
       "      <td>...</td>\n",
       "      <td>...</td>\n",
       "      <td>...</td>\n",
       "      <td>...</td>\n",
       "      <td>...</td>\n",
       "      <td>...</td>\n",
       "      <td>...</td>\n",
       "      <td>...</td>\n",
       "      <td>...</td>\n",
       "    </tr>\n",
       "    <tr>\n",
       "      <th>35688</th>\n",
       "      <td>2017</td>\n",
       "      <td>50.0</td>\n",
       "      <td>1327495</td>\n",
       "      <td>AGRONOMIA</td>\n",
       "      <td>1</td>\n",
       "      <td>1.0</td>\n",
       "      <td>1</td>\n",
       "      <td>1</td>\n",
       "      <td>4485</td>\n",
       "      <td>1.0</td>\n",
       "      <td>0.0</td>\n",
       "      <td>0.0</td>\n",
       "      <td>0.0</td>\n",
       "      <td>97</td>\n",
       "      <td>0</td>\n",
       "      <td>39</td>\n",
       "      <td>56</td>\n",
       "    </tr>\n",
       "    <tr>\n",
       "      <th>35689</th>\n",
       "      <td>2017</td>\n",
       "      <td>35.0</td>\n",
       "      <td>1192068</td>\n",
       "      <td>SISTEMAS BIOMÉDICOS</td>\n",
       "      <td>1</td>\n",
       "      <td>3.0</td>\n",
       "      <td>1</td>\n",
       "      <td>0</td>\n",
       "      <td>2840</td>\n",
       "      <td>0.0</td>\n",
       "      <td>0.0</td>\n",
       "      <td>0.0</td>\n",
       "      <td>1.0</td>\n",
       "      <td>102</td>\n",
       "      <td>10</td>\n",
       "      <td>58</td>\n",
       "      <td>188</td>\n",
       "    </tr>\n",
       "    <tr>\n",
       "      <th>35690</th>\n",
       "      <td>2017</td>\n",
       "      <td>15.0</td>\n",
       "      <td>104536</td>\n",
       "      <td>FARMÁCIA</td>\n",
       "      <td>1</td>\n",
       "      <td>1.0</td>\n",
       "      <td>1</td>\n",
       "      <td>0</td>\n",
       "      <td>4072</td>\n",
       "      <td>0.0</td>\n",
       "      <td>1.0</td>\n",
       "      <td>0.0</td>\n",
       "      <td>1.0</td>\n",
       "      <td>263</td>\n",
       "      <td>65</td>\n",
       "      <td>59</td>\n",
       "      <td>105</td>\n",
       "    </tr>\n",
       "    <tr>\n",
       "      <th>35691</th>\n",
       "      <td>2017</td>\n",
       "      <td>35.0</td>\n",
       "      <td>1305952</td>\n",
       "      <td>TRADUÇÃO E INTERPRETAÇÃO EM LÍNGUA BRASILEIRA ...</td>\n",
       "      <td>1</td>\n",
       "      <td>1.0</td>\n",
       "      <td>1</td>\n",
       "      <td>1</td>\n",
       "      <td>2940</td>\n",
       "      <td>1.0</td>\n",
       "      <td>0.0</td>\n",
       "      <td>0.0</td>\n",
       "      <td>0.0</td>\n",
       "      <td>60</td>\n",
       "      <td>0</td>\n",
       "      <td>31</td>\n",
       "      <td>37</td>\n",
       "    </tr>\n",
       "    <tr>\n",
       "      <th>35692</th>\n",
       "      <td>2017</td>\n",
       "      <td>22.0</td>\n",
       "      <td>1154826</td>\n",
       "      <td>CIÊNCIAS CONTÁBEIS</td>\n",
       "      <td>1</td>\n",
       "      <td>1.0</td>\n",
       "      <td>1</td>\n",
       "      <td>0</td>\n",
       "      <td>3320</td>\n",
       "      <td>0.0</td>\n",
       "      <td>0.0</td>\n",
       "      <td>0.0</td>\n",
       "      <td>1.0</td>\n",
       "      <td>85</td>\n",
       "      <td>12</td>\n",
       "      <td>32</td>\n",
       "      <td>361</td>\n",
       "    </tr>\n",
       "  </tbody>\n",
       "</table>\n",
       "<p>35693 rows × 17 columns</p>\n",
       "</div>"
      ],
      "text/plain": [
       "       NU_ANO_CENSO  CO_UF  CO_CURSO  \\\n",
       "0              2017   14.0   1259131   \n",
       "1              2017   51.0   1258115   \n",
       "2              2017   35.0     68433   \n",
       "3              2017   35.0     52052   \n",
       "4              2017   53.0     18061   \n",
       "...             ...    ...       ...   \n",
       "35688          2017   50.0   1327495   \n",
       "35689          2017   35.0   1192068   \n",
       "35690          2017   15.0    104536   \n",
       "35691          2017   35.0   1305952   \n",
       "35692          2017   22.0   1154826   \n",
       "\n",
       "                                                NO_CURSO  TP_SITUACAO  \\\n",
       "0                                                 MÚSICA            1   \n",
       "1                             GESTÃO DE RECURSOS HUMANOS            1   \n",
       "2                                                DIREITO            1   \n",
       "3                                    ENGENHARIA ELÉTRICA            1   \n",
       "4                                                DIREITO            1   \n",
       "...                                                  ...          ...   \n",
       "35688                                          AGRONOMIA            1   \n",
       "35689                                SISTEMAS BIOMÉDICOS            1   \n",
       "35690                                           FARMÁCIA            1   \n",
       "35691  TRADUÇÃO E INTERPRETAÇÃO EM LÍNGUA BRASILEIRA ...            1   \n",
       "35692                                 CIÊNCIAS CONTÁBEIS            1   \n",
       "\n",
       "       TP_GRAU_ACADEMICO  TP_MODALIDADE_ENSINO  IN_GRATUITO  NU_CARGA_HORARIA  \\\n",
       "0                    2.0                     1            1              3210   \n",
       "1                    3.0                     1            0              1720   \n",
       "2                    1.0                     1            0              4080   \n",
       "3                    1.0                     1            0              3892   \n",
       "4                    1.0                     1            0              3790   \n",
       "...                  ...                   ...          ...               ...   \n",
       "35688                1.0                     1            1              4485   \n",
       "35689                3.0                     1            0              2840   \n",
       "35690                1.0                     1            0              4072   \n",
       "35691                1.0                     1            1              2940   \n",
       "35692                1.0                     1            0              3320   \n",
       "\n",
       "       IN_INTEGRAL  IN_MATUTINO  IN_VESPERTINO  IN_NOTURNO  \\\n",
       "0              0.0          0.0            0.0         1.0   \n",
       "1              0.0          0.0            0.0         1.0   \n",
       "2              0.0          1.0            0.0         1.0   \n",
       "3              0.0          0.0            0.0         1.0   \n",
       "4              0.0          1.0            0.0         1.0   \n",
       "...            ...          ...            ...         ...   \n",
       "35688          1.0          0.0            0.0         0.0   \n",
       "35689          0.0          0.0            0.0         1.0   \n",
       "35690          0.0          1.0            0.0         1.0   \n",
       "35691          1.0          0.0            0.0         0.0   \n",
       "35692          0.0          0.0            0.0         1.0   \n",
       "\n",
       "       QT_MATRICULA_TOTAL  QT_CONCLUINTE_TOTAL  QT_INGRESSO_TOTAL  \\\n",
       "0                     131                    5                 40   \n",
       "1                      12                    0                  4   \n",
       "2                     247                   71                 51   \n",
       "3                     172                   26                 35   \n",
       "4                    1966                  450                223   \n",
       "...                   ...                  ...                ...   \n",
       "35688                  97                    0                 39   \n",
       "35689                 102                   10                 58   \n",
       "35690                 263                   65                 59   \n",
       "35691                  60                    0                 31   \n",
       "35692                  85                   12                 32   \n",
       "\n",
       "       QT_VAGA_TOTAL  \n",
       "0                 50  \n",
       "1                 95  \n",
       "2                240  \n",
       "3                191  \n",
       "4                840  \n",
       "...              ...  \n",
       "35688             56  \n",
       "35689            188  \n",
       "35690            105  \n",
       "35691             37  \n",
       "35692            361  \n",
       "\n",
       "[35693 rows x 17 columns]"
      ]
     },
     "execution_count": 41,
     "metadata": {},
     "output_type": "execute_result"
    }
   ],
   "source": [
    "df"
   ]
  },
  {
   "cell_type": "code",
   "execution_count": 42,
   "metadata": {},
   "outputs": [
    {
     "data": {
      "text/plain": [
       "NU_ANO_CENSO            35693\n",
       "CO_UF                   33581\n",
       "CO_CURSO                35693\n",
       "NO_CURSO                35693\n",
       "TP_SITUACAO             35693\n",
       "TP_GRAU_ACADEMICO       35380\n",
       "TP_MODALIDADE_ENSINO    35693\n",
       "IN_GRATUITO             35693\n",
       "NU_CARGA_HORARIA        35693\n",
       "IN_INTEGRAL             33581\n",
       "IN_MATUTINO             33581\n",
       "IN_VESPERTINO           33581\n",
       "IN_NOTURNO              33581\n",
       "QT_MATRICULA_TOTAL      35693\n",
       "QT_CONCLUINTE_TOTAL     35693\n",
       "QT_INGRESSO_TOTAL       35693\n",
       "QT_VAGA_TOTAL           35693\n",
       "dtype: int64"
      ]
     },
     "execution_count": 42,
     "metadata": {},
     "output_type": "execute_result"
    }
   ],
   "source": [
    "df.count() "
   ]
  },
  {
   "cell_type": "code",
   "execution_count": 43,
   "metadata": {},
   "outputs": [
    {
     "data": {
      "text/plain": [
       "NU_ANO_CENSO            28450\n",
       "CO_UF                   28450\n",
       "CO_CURSO                28450\n",
       "NO_CURSO                28450\n",
       "TP_SITUACAO             28450\n",
       "TP_GRAU_ACADEMICO       28255\n",
       "TP_MODALIDADE_ENSINO    28450\n",
       "IN_GRATUITO             28450\n",
       "NU_CARGA_HORARIA        28450\n",
       "IN_INTEGRAL             28450\n",
       "IN_MATUTINO             28450\n",
       "IN_VESPERTINO           28450\n",
       "IN_NOTURNO              28450\n",
       "QT_MATRICULA_TOTAL      28450\n",
       "QT_CONCLUINTE_TOTAL     28450\n",
       "QT_INGRESSO_TOTAL       28450\n",
       "QT_VAGA_TOTAL           28450\n",
       "dtype: int64"
      ]
     },
     "execution_count": 43,
     "metadata": {},
     "output_type": "execute_result"
    }
   ],
   "source": [
    "df.query('IN_MATUTINO == 1 or IN_NOTURNO == 1').count() #quantidade de cursos presenciais oferecidos no período matutino e noturno. "
   ]
  },
  {
   "cell_type": "code",
   "execution_count": 44,
   "metadata": {},
   "outputs": [
    {
     "data": {
      "text/plain": [
       "NU_ANO_CENSO            5452\n",
       "CO_UF                   5452\n",
       "CO_CURSO                5452\n",
       "NO_CURSO                5452\n",
       "TP_SITUACAO             5452\n",
       "TP_GRAU_ACADEMICO       5323\n",
       "TP_MODALIDADE_ENSINO    5452\n",
       "IN_GRATUITO             5452\n",
       "NU_CARGA_HORARIA        5452\n",
       "IN_INTEGRAL             5452\n",
       "IN_MATUTINO             5452\n",
       "IN_VESPERTINO           5452\n",
       "IN_NOTURNO              5452\n",
       "QT_MATRICULA_TOTAL      5452\n",
       "QT_CONCLUINTE_TOTAL     5452\n",
       "QT_INGRESSO_TOTAL       5452\n",
       "QT_VAGA_TOTAL           5452\n",
       "dtype: int64"
      ]
     },
     "execution_count": 44,
     "metadata": {},
     "output_type": "execute_result"
    }
   ],
   "source": [
    "df.query('IN_INTEGRAL == 1').count() #quantidade de cursos presenciais oferecidos no período integral. "
   ]
  },
  {
   "cell_type": "code",
   "execution_count": 45,
   "metadata": {},
   "outputs": [
    {
     "data": {
      "text/plain": [
       "NU_ANO_CENSO            33326\n",
       "CO_UF                   32094\n",
       "CO_CURSO                33326\n",
       "NO_CURSO                33326\n",
       "TP_SITUACAO             33326\n",
       "TP_GRAU_ACADEMICO       33154\n",
       "TP_MODALIDADE_ENSINO    33326\n",
       "IN_GRATUITO             33326\n",
       "NU_CARGA_HORARIA        33326\n",
       "IN_INTEGRAL             32094\n",
       "IN_MATUTINO             32094\n",
       "IN_VESPERTINO           32094\n",
       "IN_NOTURNO              32094\n",
       "QT_MATRICULA_TOTAL      33326\n",
       "QT_CONCLUINTE_TOTAL     33326\n",
       "QT_INGRESSO_TOTAL       33326\n",
       "QT_VAGA_TOTAL           33326\n",
       "dtype: int64"
      ]
     },
     "execution_count": 45,
     "metadata": {},
     "output_type": "execute_result"
    }
   ],
   "source": [
    "df.query ('IN_NOTURNO == 1 or QT_CONCLUINTE_TOTAL').count() #Quantidade de cloncluintes dos cursos presenciais no período norturno"
   ]
  },
  {
   "cell_type": "code",
   "execution_count": 57,
   "metadata": {},
   "outputs": [
    {
     "data": {
      "image/png": "[encoded data removed]",
      "text/plain": [
       "<Figure size 432x288 with 1 Axes>"
      ]
     },
     "metadata": {
      "needs_background": "light"
     },
     "output_type": "display_data"
    }
   ],
   "source": [
    "plt.suptitle(\"CURSOS OFERECIDOS NO PERÍODO MATUTINO X NOTURNO\")\n",
    "names = ['Total', 'Matutino', 'Nortuno']\n",
    "values = [\n",
    "    df['IN_MATUTINO' and 'IN_NOTURNO'].count(),\n",
    "    df.query('IN_MATUTINO == 1').count()[0],\n",
    "    df.query('IN_NOTURNO == 1').count()[0]\n",
    "]\n",
    "plt.bar(names, values)\n",
    "plt.show()"
   ]
  },
  {
   "cell_type": "code",
   "execution_count": 47,
   "metadata": {},
   "outputs": [
    {
     "data": {
      "image/png": "[encoded data removed]",
      "text/plain": [
       "<Figure size 432x288 with 1 Axes>"
      ]
     },
     "metadata": {
      "needs_background": "light"
     },
     "output_type": "display_data"
    }
   ],
   "source": [
    "plt.suptitle(\"ENSINO GRATUÍTO X PAGO\")\n",
    "names = ['Total','Gratuíto', 'Pago']\n",
    "values = [\n",
    "    df['IN_GRATUITO'].count(),\n",
    "    df.query('IN_GRATUITO == 1').count()[0],\n",
    "    df.query('IN_GRATUITO == 0').count()[0]\n",
    "]\n",
    "plt.bar(names, values)\n",
    "plt.show()"
   ]
  },
  {
   "cell_type": "code",
   "execution_count": 48,
   "metadata": {},
   "outputs": [
    {
     "data": {
      "image/png": "[encoded data removed]",
      "text/plain": [
       "<Figure size 432x288 with 1 Axes>"
      ]
     },
     "metadata": {
      "needs_background": "light"
     },
     "output_type": "display_data"
    }
   ],
   "source": [
    "plt.suptitle(\"ENSINO PRESENCIAL X À DISTÂNCIA\")\n",
    "names = ['Total','Presencial', 'À distancia']\n",
    "values = [\n",
    "    df['TP_MODALIDADE_ENSINO'].count(),\n",
    "    df.query('TP_MODALIDADE_ENSINO == 1').count()[0],\n",
    "    df.query('TP_MODALIDADE_ENSINO == 2').count()[0]\n",
    "]\n",
    "plt.bar(names, values)\n",
    "plt.show()"
   ]
  },
  {
   "cell_type": "code",
   "execution_count": 53,
   "metadata": {},
   "outputs": [
    {
     "data": {
      "text/plain": [
       "<matplotlib.axes._subplots.AxesSubplot at 0x5606850>"
      ]
     },
     "execution_count": 53,
     "metadata": {},
     "output_type": "execute_result"
    },
    {
     "data": {
      "image/png": "[encoded data removed]",
      "text/plain": [
       "<Figure size 720x720 with 1 Axes>"
      ]
     },
     "metadata": {
      "needs_background": "light"
     },
     "output_type": "display_data"
    }
   ],
   "source": [
    "#Maiores indeces de ingressantes nos cursos\n",
    "df.groupby('NO_CURSO').size().sort_values().tail(20).plot(kind='barh', figsize=(10,10))"
   ]
  },
  {
   "cell_type": "code",
   "execution_count": 52,
   "metadata": {},
   "outputs": [
    {
     "data": {
      "text/plain": [
       "<matplotlib.axes._subplots.AxesSubplot at 0x55cd7d0>"
      ]
     },
     "execution_count": 52,
     "metadata": {},
     "output_type": "execute_result"
    },
    {
     "data": {
      "image/png": "[encoded data removed]",
      "text/plain": [
       "<Figure size 720x720 with 1 Axes>"
      ]
     },
     "metadata": {
      "needs_background": "light"
     },
     "output_type": "display_data"
    }
   ],
   "source": [
    "df.groupby('TP_GRAU_ACADEMICO').size().sort_values().tail(10).plot(kind='barh', figsize=(10,10))\n",
    "# (1)- Bacharelado (2)- Licenciatura (3) - Tecnólogo "
   ]
  },
  {
   "cell_type": "code",
   "execution_count": 62,
   "metadata": {},
   "outputs": [
    {
     "name": "stderr",
     "output_type": "stream",
     "text": [
      "c:\\users\\beatriz\\appdata\\local\\programs\\python\\python37-32\\lib\\site-packages\\pandas\\core\\frame.py:3202: FutureWarning: \n",
      "Passing list-likes to .loc or [] with any missing label will raise\n",
      "KeyError in the future, you can use .reindex() as an alternative.\n",
      "\n",
      "See the documentation here:\n",
      "https://pandas.pydata.org/pandas-docs/stable/user_guide/indexing.html#deprecate-loc-reindex-listlike\n",
      "  new_data = self.loc[res]\n"
     ]
    },
    {
     "data": {
      "image/png": "[encoded data removed]",
      "text/plain": [
       "<Figure size 432x288 with 1 Axes>"
      ]
     },
     "metadata": {
      "needs_background": "light"
     },
     "output_type": "display_data"
    }
   ],
   "source": [
    "plt.suptitle(\"Relação de matrículas e concluintes\")\n",
    "names = ['Total', 'Concluintes', 'Matrículas']\n",
    "values = [\n",
    "    df['QT_VAGA_TOTAL' and 'QT_MATRICULA_TOTAL'].count(),\n",
    "    df.query('QT_VAGA_TOTAL').count()[0],\n",
    "    df.query('QT_MATRICULA_TOTAL').count()[0]\n",
    "]\n",
    "plt.bar(names, values)\n",
    "plt.show()"
   ]
  }
 ],
 "metadata": {
  "kernelspec": {
   "display_name": "Python 3",
   "language": "python",
   "name": "python3"
  },
  "language_info": {
   "codemirror_mode": {
    "name": "ipython",
    "version": 3
   },
   "file_extension": ".py",
   "mimetype": "text/x-python",
   "name": "python",
   "nbconvert_exporter": "python",
   "pygments_lexer": "ipython3",
   "version": "3.7.0"
  }
 },
 "nbformat": 4,
 "nbformat_minor": 2
}
